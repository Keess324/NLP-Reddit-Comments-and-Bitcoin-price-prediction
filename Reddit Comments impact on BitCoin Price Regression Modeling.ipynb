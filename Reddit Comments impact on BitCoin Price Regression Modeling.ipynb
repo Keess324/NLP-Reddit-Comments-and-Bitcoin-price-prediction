{
 "cells": [
  {
   "cell_type": "code",
   "execution_count": 1,
   "metadata": {},
   "outputs": [],
   "source": [
    "import pandas as pd\n",
    "import numpy as np\n",
    "import matplotlib.pylab as plt\n",
    "from datetime import datetime\n",
    "from dateutil import tz\n",
    "import time"
   ]
  },
  {
   "cell_type": "code",
   "execution_count": 21,
   "metadata": {},
   "outputs": [],
   "source": [
    "# Reddit_cleaned\n",
    "reddit_data = pd.read_csv('Reddit_cleaned.csv', encoding = \"ISO-8859-1\")"
   ]
  },
  {
   "cell_type": "code",
   "execution_count": 22,
   "metadata": {},
   "outputs": [
    {
     "data": {
      "text/html": [
       "<div>\n",
       "<style scoped>\n",
       "    .dataframe tbody tr th:only-of-type {\n",
       "        vertical-align: middle;\n",
       "    }\n",
       "\n",
       "    .dataframe tbody tr th {\n",
       "        vertical-align: top;\n",
       "    }\n",
       "\n",
       "    .dataframe thead th {\n",
       "        text-align: right;\n",
       "    }\n",
       "</style>\n",
       "<table border=\"1\" class=\"dataframe\">\n",
       "  <thead>\n",
       "    <tr style=\"text-align: right;\">\n",
       "      <th></th>\n",
       "      <th>Unnamed: 0</th>\n",
       "      <th>score</th>\n",
       "      <th>created_utc</th>\n",
       "      <th>polarity</th>\n",
       "      <th>subjectivity</th>\n",
       "    </tr>\n",
       "  </thead>\n",
       "  <tbody>\n",
       "    <tr>\n",
       "      <th>0</th>\n",
       "      <td>0</td>\n",
       "      <td>255.0</td>\n",
       "      <td>1.515851e+09</td>\n",
       "      <td>0.000000</td>\n",
       "      <td>0.000000</td>\n",
       "    </tr>\n",
       "    <tr>\n",
       "      <th>1</th>\n",
       "      <td>1</td>\n",
       "      <td>123.0</td>\n",
       "      <td>1.515829e+09</td>\n",
       "      <td>0.200000</td>\n",
       "      <td>0.200000</td>\n",
       "    </tr>\n",
       "    <tr>\n",
       "      <th>2</th>\n",
       "      <td>2</td>\n",
       "      <td>46.0</td>\n",
       "      <td>1.515825e+09</td>\n",
       "      <td>0.300000</td>\n",
       "      <td>0.200000</td>\n",
       "    </tr>\n",
       "    <tr>\n",
       "      <th>3</th>\n",
       "      <td>3</td>\n",
       "      <td>32.0</td>\n",
       "      <td>1.515896e+09</td>\n",
       "      <td>0.109901</td>\n",
       "      <td>0.386412</td>\n",
       "    </tr>\n",
       "    <tr>\n",
       "      <th>4</th>\n",
       "      <td>4</td>\n",
       "      <td>29.0</td>\n",
       "      <td>1.515833e+09</td>\n",
       "      <td>0.150000</td>\n",
       "      <td>0.150000</td>\n",
       "    </tr>\n",
       "  </tbody>\n",
       "</table>\n",
       "</div>"
      ],
      "text/plain": [
       "   Unnamed: 0  score   created_utc  polarity  subjectivity\n",
       "0           0  255.0  1.515851e+09  0.000000      0.000000\n",
       "1           1  123.0  1.515829e+09  0.200000      0.200000\n",
       "2           2   46.0  1.515825e+09  0.300000      0.200000\n",
       "3           3   32.0  1.515896e+09  0.109901      0.386412\n",
       "4           4   29.0  1.515833e+09  0.150000      0.150000"
      ]
     },
     "execution_count": 22,
     "metadata": {},
     "output_type": "execute_result"
    }
   ],
   "source": [
    "reddit_data.head()"
   ]
  },
  {
   "cell_type": "code",
   "execution_count": 23,
   "metadata": {},
   "outputs": [
    {
     "data": {
      "text/plain": [
       "0     0.000000\n",
       "1    24.600000\n",
       "2    13.800000\n",
       "3     3.516819\n",
       "4     4.350000\n",
       "Name: multi, dtype: float64"
      ]
     },
     "execution_count": 23,
     "metadata": {},
     "output_type": "execute_result"
    }
   ],
   "source": [
    "reddit_data['multi'] = reddit_data.polarity * reddit_data.score\n",
    "reddit_data['multi'].head()"
   ]
  },
  {
   "cell_type": "code",
   "execution_count": 24,
   "metadata": {},
   "outputs": [
    {
     "name": "stdout",
     "output_type": "stream",
     "text": [
      "1514764808.0 1522540790.0\n"
     ]
    }
   ],
   "source": [
    "reddit_data_sorted = reddit_data.sort_values(['created_utc'])\n",
    "reddit_data_min = min(reddit_data_sorted['created_utc']) \n",
    "reddit_data_max = max(reddit_data_sorted['created_utc'])\n",
    "length = reddit_data_sorted.shape[0]\n",
    "\n",
    "print(reddit_data_min, reddit_data_max)"
   ]
  },
  {
   "cell_type": "code",
   "execution_count": 25,
   "metadata": {},
   "outputs": [],
   "source": [
    "reddit_data_sorted['class'] = reddit_data_sorted['created_utc']"
   ]
  },
  {
   "cell_type": "code",
   "execution_count": 26,
   "metadata": {},
   "outputs": [],
   "source": [
    "reddit_data_sorted['class'] = np.floor((reddit_data_sorted['created_utc'] - 1514764808.0)/3600) + 1"
   ]
  },
  {
   "cell_type": "code",
   "execution_count": 95,
   "metadata": {
    "scrolled": true
   },
   "outputs": [
    {
     "data": {
      "text/plain": [
       "<bound method NDFrame.head of              multi   class\n",
       "336144    2.850000     1.0\n",
       "951054    0.800000     1.0\n",
       "724590    0.400000     1.0\n",
       "696377    0.375000     1.0\n",
       "363633    1.500000     1.0\n",
       "1041333   0.107143     1.0\n",
       "440754    0.100000     1.0\n",
       "150802   95.000000     1.0\n",
       "786432    0.136364     1.0\n",
       "187919   -0.400000     1.0\n",
       "446265    0.095238     1.0\n",
       "772985    0.303333     1.0\n",
       "450253    0.275000     1.0\n",
       "444932    0.187500     1.0\n",
       "964879    0.033333     1.0\n",
       "705086    0.800000     1.0\n",
       "485059    0.225000     1.0\n",
       "696491   -0.200000     1.0\n",
       "346800   -0.075000     1.0\n",
       "909316   -0.400000     1.0\n",
       "1006118   0.150000     1.0\n",
       "441924    0.300000     1.0\n",
       "674534    3.510000     1.0\n",
       "188131    0.105000     1.0\n",
       "896603    3.745455     1.0\n",
       "573682   -0.500000     1.0\n",
       "845368    0.842857     1.0\n",
       "473550   -0.500000     1.0\n",
       "167353   -0.000000     1.0\n",
       "912416   -0.800000     1.0\n",
       "...            ...     ...\n",
       "571567    0.336364  2160.0\n",
       "153629    1.300000  2160.0\n",
       "732512    0.273016  2160.0\n",
       "862147    1.200000  2160.0\n",
       "570835    0.272727  2160.0\n",
       "926283   -4.400000  2160.0\n",
       "413377   10.920000  2160.0\n",
       "680028    0.000000  2160.0\n",
       "305834    0.700000  2160.0\n",
       "142081    0.371429  2160.0\n",
       "351721   -0.900000  2160.0\n",
       "403231    8.800000  2160.0\n",
       "556970    0.400000  2160.0\n",
       "1030516  -0.076667  2160.0\n",
       "559406    0.375000  2160.0\n",
       "603739    0.563636  2160.0\n",
       "307917    0.191667  2160.0\n",
       "737590   -0.060000  2160.0\n",
       "898842    2.635714  2160.0\n",
       "267665   -0.141667  2160.0\n",
       "1050659   1.400000  2160.0\n",
       "1057935   0.124235  2160.0\n",
       "223324    0.100000  2160.0\n",
       "142175    0.180000  2160.0\n",
       "143001    2.100000  2160.0\n",
       "890323    1.470000  2160.0\n",
       "954285   -0.210000  2160.0\n",
       "1030096  -0.012500  2160.0\n",
       "699158    0.800000  2160.0\n",
       "142195    0.350000  2160.0\n",
       "\n",
       "[685281 rows x 2 columns]>"
      ]
     },
     "execution_count": 95,
     "metadata": {},
     "output_type": "execute_result"
    }
   ],
   "source": [
    "reddit_data_sorted.head"
   ]
  },
  {
   "cell_type": "code",
   "execution_count": 28,
   "metadata": {},
   "outputs": [],
   "source": [
    "reddit_data_sorted = reddit_data_sorted[reddit_data_sorted['polarity'] !=0]"
   ]
  },
  {
   "cell_type": "code",
   "execution_count": 29,
   "metadata": {},
   "outputs": [],
   "source": [
    "reddit_data_sorted = reddit_data_sorted[['multi','class']]"
   ]
  },
  {
   "cell_type": "code",
   "execution_count": 30,
   "metadata": {},
   "outputs": [],
   "source": [
    "reddit_data_sorted_group = reddit_data_sorted.groupby('class').mean()"
   ]
  },
  {
   "cell_type": "code",
   "execution_count": 119,
   "metadata": {},
   "outputs": [
    {
     "data": {
      "image/png": "[encoded data removed]",
      "text/plain": [
       "<Figure size 576x432 with 1 Axes>"
      ]
     },
     "metadata": {},
     "output_type": "display_data"
    }
   ],
   "source": [
    "# Reddit Comments Plot\n",
    "\n",
    "reddit_data_sorted_group.plot(figsize=(8, 6))\n",
    "plt.xlabel('Comment Polarity', fontsize=18)\n",
    "plt.savefig('Comment Polarity.png')"
   ]
  },
  {
   "cell_type": "code",
   "execution_count": 32,
   "metadata": {},
   "outputs": [],
   "source": [
    "# BitCoin\n",
    "btc = pd.read_csv('btc_usd.csv', encoding = \"ISO-8859-1\")"
   ]
  },
  {
   "cell_type": "code",
   "execution_count": 33,
   "metadata": {},
   "outputs": [
    {
     "data": {
      "text/html": [
       "<div>\n",
       "<style scoped>\n",
       "    .dataframe tbody tr th:only-of-type {\n",
       "        vertical-align: middle;\n",
       "    }\n",
       "\n",
       "    .dataframe tbody tr th {\n",
       "        vertical-align: top;\n",
       "    }\n",
       "\n",
       "    .dataframe thead th {\n",
       "        text-align: right;\n",
       "    }\n",
       "</style>\n",
       "<table border=\"1\" class=\"dataframe\">\n",
       "  <thead>\n",
       "    <tr style=\"text-align: right;\">\n",
       "      <th></th>\n",
       "      <th>Unnamed: 0</th>\n",
       "      <th>id</th>\n",
       "      <th>datetime</th>\n",
       "      <th>type</th>\n",
       "      <th>quantity</th>\n",
       "      <th>price</th>\n",
       "      <th>total</th>\n",
       "    </tr>\n",
       "  </thead>\n",
       "  <tbody>\n",
       "    <tr>\n",
       "      <th>0</th>\n",
       "      <td>0</td>\n",
       "      <td>148668314</td>\n",
       "      <td>2018-01-01 00:00:01</td>\n",
       "      <td>sell</td>\n",
       "      <td>0.100000</td>\n",
       "      <td>13763.0</td>\n",
       "      <td>1376.300000</td>\n",
       "    </tr>\n",
       "    <tr>\n",
       "      <th>1</th>\n",
       "      <td>1</td>\n",
       "      <td>148668317</td>\n",
       "      <td>2018-01-01 00:00:01</td>\n",
       "      <td>buy</td>\n",
       "      <td>0.010000</td>\n",
       "      <td>13766.0</td>\n",
       "      <td>137.660000</td>\n",
       "    </tr>\n",
       "    <tr>\n",
       "      <th>2</th>\n",
       "      <td>2</td>\n",
       "      <td>148668334</td>\n",
       "      <td>2018-01-01 00:00:02</td>\n",
       "      <td>buy</td>\n",
       "      <td>0.105929</td>\n",
       "      <td>13767.0</td>\n",
       "      <td>1458.325094</td>\n",
       "    </tr>\n",
       "    <tr>\n",
       "      <th>3</th>\n",
       "      <td>3</td>\n",
       "      <td>148668333</td>\n",
       "      <td>2018-01-01 00:00:02</td>\n",
       "      <td>buy</td>\n",
       "      <td>0.244811</td>\n",
       "      <td>13766.0</td>\n",
       "      <td>3370.068777</td>\n",
       "    </tr>\n",
       "    <tr>\n",
       "      <th>4</th>\n",
       "      <td>4</td>\n",
       "      <td>148668332</td>\n",
       "      <td>2018-01-01 00:00:02</td>\n",
       "      <td>buy</td>\n",
       "      <td>0.025234</td>\n",
       "      <td>13766.0</td>\n",
       "      <td>347.375374</td>\n",
       "    </tr>\n",
       "  </tbody>\n",
       "</table>\n",
       "</div>"
      ],
      "text/plain": [
       "   Unnamed: 0         id             datetime  type  quantity    price  \\\n",
       "0           0  148668314  2018-01-01 00:00:01  sell  0.100000  13763.0   \n",
       "1           1  148668317  2018-01-01 00:00:01   buy  0.010000  13766.0   \n",
       "2           2  148668334  2018-01-01 00:00:02   buy  0.105929  13767.0   \n",
       "3           3  148668333  2018-01-01 00:00:02   buy  0.244811  13766.0   \n",
       "4           4  148668332  2018-01-01 00:00:02   buy  0.025234  13766.0   \n",
       "\n",
       "         total  \n",
       "0  1376.300000  \n",
       "1   137.660000  \n",
       "2  1458.325094  \n",
       "3  3370.068777  \n",
       "4   347.375374  "
      ]
     },
     "execution_count": 33,
     "metadata": {},
     "output_type": "execute_result"
    }
   ],
   "source": [
    "btc.head()"
   ]
  },
  {
   "cell_type": "code",
   "execution_count": 34,
   "metadata": {},
   "outputs": [],
   "source": [
    "btc['realtime'] = btc['datetime'].str.slice(5, 13)"
   ]
  },
  {
   "cell_type": "code",
   "execution_count": 35,
   "metadata": {},
   "outputs": [],
   "source": [
    "btc_ts = btc[['realtime', 'price']]"
   ]
  },
  {
   "cell_type": "code",
   "execution_count": 36,
   "metadata": {},
   "outputs": [],
   "source": [
    "btc_ts_group = btc_ts.groupby('realtime').mean()"
   ]
  },
  {
   "cell_type": "code",
   "execution_count": 37,
   "metadata": {},
   "outputs": [
    {
     "data": {
      "text/html": [
       "<div>\n",
       "<style scoped>\n",
       "    .dataframe tbody tr th:only-of-type {\n",
       "        vertical-align: middle;\n",
       "    }\n",
       "\n",
       "    .dataframe tbody tr th {\n",
       "        vertical-align: top;\n",
       "    }\n",
       "\n",
       "    .dataframe thead th {\n",
       "        text-align: right;\n",
       "    }\n",
       "</style>\n",
       "<table border=\"1\" class=\"dataframe\">\n",
       "  <thead>\n",
       "    <tr style=\"text-align: right;\">\n",
       "      <th></th>\n",
       "      <th>price</th>\n",
       "    </tr>\n",
       "    <tr>\n",
       "      <th>realtime</th>\n",
       "      <th></th>\n",
       "    </tr>\n",
       "  </thead>\n",
       "  <tbody>\n",
       "    <tr>\n",
       "      <th>01-01 00</th>\n",
       "      <td>13606.842210</td>\n",
       "    </tr>\n",
       "    <tr>\n",
       "      <th>01-01 01</th>\n",
       "      <td>13461.962401</td>\n",
       "    </tr>\n",
       "    <tr>\n",
       "      <th>01-01 02</th>\n",
       "      <td>13333.441535</td>\n",
       "    </tr>\n",
       "    <tr>\n",
       "      <th>01-01 03</th>\n",
       "      <td>13447.868240</td>\n",
       "    </tr>\n",
       "    <tr>\n",
       "      <th>01-01 04</th>\n",
       "      <td>13426.570852</td>\n",
       "    </tr>\n",
       "  </tbody>\n",
       "</table>\n",
       "</div>"
      ],
      "text/plain": [
       "                 price\n",
       "realtime              \n",
       "01-01 00  13606.842210\n",
       "01-01 01  13461.962401\n",
       "01-01 02  13333.441535\n",
       "01-01 03  13447.868240\n",
       "01-01 04  13426.570852"
      ]
     },
     "execution_count": 37,
     "metadata": {},
     "output_type": "execute_result"
    }
   ],
   "source": [
    "btc_ts_group.head()"
   ]
  },
  {
   "cell_type": "code",
   "execution_count": 118,
   "metadata": {},
   "outputs": [
    {
     "data": {
      "image/png": "[encoded data removed]",
      "text/plain": [
       "<Figure size 576x432 with 1 Axes>"
      ]
     },
     "metadata": {},
     "output_type": "display_data"
    }
   ],
   "source": [
    "\n",
    "\n",
    "btc_ts_group.plot(figsize=(8, 6))\n",
    "plt.xlabel('BitCoin Price', fontsize=18)\n",
    "plt.savefig('BitCoin Price.png')"
   ]
  },
  {
   "cell_type": "code",
   "execution_count": 97,
   "metadata": {},
   "outputs": [
    {
     "data": {
      "text/plain": [
       "[13606.842209657329,\n",
       " 13461.962400507895,\n",
       " 13333.441535331891,\n",
       " 13447.868240309532,\n",
       " 13426.570851651983,\n",
       " 13534.99042529428,\n",
       " 13648.919943021989,\n",
       " 13741.448474292241,\n",
       " 13552.739920680284,\n",
       " 13526.976279816261]"
      ]
     },
     "execution_count": 97,
     "metadata": {},
     "output_type": "execute_result"
    }
   ],
   "source": [
    "pricelist = list(btc_ts_group['price'])\n",
    "pricelist[0:10]"
   ]
  },
  {
   "cell_type": "code",
   "execution_count": 75,
   "metadata": {},
   "outputs": [
    {
     "name": "stdout",
     "output_type": "stream",
     "text": [
      "[array([[8.83522549]]), array([[9.03225848]]), array([[10.42471478]]), array([[10.0853425]]), array([[3.15452737]]), array([[1.44116199]]), array([[3.55839541]]), array([[8.02965371]]), array([[14.51374113]]), array([[17.49654153]]), array([[16.15299489]]), array([[10.17443716]]), array([[-12.61090252]]), array([[-18.24870148]]), array([[-21.22669145]]), array([[-21.91996315]]), array([[-37.98166761]]), array([[-43.06405949]]), array([[-29.61889344]]), array([[-39.33191265]]), array([[-49.47774859]]), array([[-62.85458122]]), array([[-61.91704455]]), array([[-53.48186014]]), array([[-50.15052947]]), array([[-45.13624248]]), array([[-55.04067111]]), array([[-70.20215655]]), array([[-61.48717337]]), array([[-62.76784942]]), array([[-69.50151766]]), array([[-68.80982554]]), array([[-68.22246342]]), array([[-62.6136561]]), array([[-90.30830072]]), array([[-105.03397152]]), array([[-92.35637911]]), array([[-87.68757063]]), array([[-91.03818606]]), array([[-103.03536406]]), array([[-91.57910746]]), array([[-75.75523427]]), array([[-75.97381573]]), array([[-77.0326406]]), array([[-73.92128411]]), array([[-76.82154813]]), array([[-74.12023014]])]\n"
     ]
    }
   ],
   "source": [
    "from sklearn.linear_model import LinearRegression\n",
    "coef = []\n",
    "for i in range(1, 48):\n",
    "    shift_price_listi = [0]*i + pricelist\n",
    "\n",
    "    pricelisti = pricelist + [0]*i\n",
    "\n",
    "    slopei = [y - x for x, y in zip(shift_price_listi, pricelisti)]\n",
    "\n",
    "    slopei = slopei[i: -i]\n",
    "\n",
    "    slope_df = pd.DataFrame(slopei)\n",
    "\n",
    "\n",
    "\n",
    "    comments_shiftedi = reddit_data_sorted_group[0: slope_df.shape[0]]\n",
    "    \n",
    "    lm = LinearRegression()\n",
    "\n",
    "    lm.fit(comments_shiftedi,slope_df)\n",
    "    coef.append(lm.coef_)\n",
    "\n",
    "print(coef)"
   ]
  },
  {
   "cell_type": "code",
   "execution_count": 110,
   "metadata": {},
   "outputs": [
    {
     "data": {
      "text/html": [
       "<table class=\"simpletable\">\n",
       "<caption>OLS Regression Results</caption>\n",
       "<tr>\n",
       "  <th>Dep. Variable:</th>            <td>0</td>        <th>  R-squared:         </th> <td>   0.022</td> \n",
       "</tr>\n",
       "<tr>\n",
       "  <th>Model:</th>                   <td>OLS</td>       <th>  Adj. R-squared:    </th> <td>   0.021</td> \n",
       "</tr>\n",
       "<tr>\n",
       "  <th>Method:</th>             <td>Least Squares</td>  <th>  F-statistic:       </th> <td>   37.55</td> \n",
       "</tr>\n",
       "<tr>\n",
       "  <th>Date:</th>             <td>Sun, 30 Sep 2018</td> <th>  Prob (F-statistic):</th> <td>1.11e-09</td> \n",
       "</tr>\n",
       "<tr>\n",
       "  <th>Time:</th>                 <td>10:55:55</td>     <th>  Log-Likelihood:    </th> <td> -14215.</td> \n",
       "</tr>\n",
       "<tr>\n",
       "  <th>No. Observations:</th>      <td>  1691</td>      <th>  AIC:               </th> <td>2.843e+04</td>\n",
       "</tr>\n",
       "<tr>\n",
       "  <th>Df Residuals:</th>          <td>  1690</td>      <th>  BIC:               </th> <td>2.844e+04</td>\n",
       "</tr>\n",
       "<tr>\n",
       "  <th>Df Model:</th>              <td>     1</td>      <th>                     </th>     <td> </td>    \n",
       "</tr>\n",
       "<tr>\n",
       "  <th>Covariance Type:</th>      <td>nonrobust</td>    <th>                     </th>     <td> </td>    \n",
       "</tr>\n",
       "</table>\n",
       "<table class=\"simpletable\">\n",
       "<tr>\n",
       "    <td></td>       <th>coef</th>     <th>std err</th>      <th>t</th>      <th>P>|t|</th>  <th>[0.025</th>    <th>0.975]</th>  \n",
       "</tr>\n",
       "<tr>\n",
       "  <th>multi</th> <td> -285.6520</td> <td>   46.614</td> <td>   -6.128</td> <td> 0.000</td> <td> -377.080</td> <td> -194.224</td>\n",
       "</tr>\n",
       "</table>\n",
       "<table class=\"simpletable\">\n",
       "<tr>\n",
       "  <th>Omnibus:</th>       <td>34.362</td> <th>  Durbin-Watson:     </th> <td>   0.049</td>\n",
       "</tr>\n",
       "<tr>\n",
       "  <th>Prob(Omnibus):</th> <td> 0.000</td> <th>  Jarque-Bera (JB):  </th> <td>  36.178</td>\n",
       "</tr>\n",
       "<tr>\n",
       "  <th>Skew:</th>          <td>-0.358</td> <th>  Prob(JB):          </th> <td>1.39e-08</td>\n",
       "</tr>\n",
       "<tr>\n",
       "  <th>Kurtosis:</th>      <td> 2.967</td> <th>  Cond. No.          </th> <td>    1.00</td>\n",
       "</tr>\n",
       "</table><br/><br/>Warnings:<br/>[1] Standard Errors assume that the covariance matrix of the errors is correctly specified."
      ],
      "text/plain": [
       "<class 'statsmodels.iolib.summary.Summary'>\n",
       "\"\"\"\n",
       "                            OLS Regression Results                            \n",
       "==============================================================================\n",
       "Dep. Variable:                      0   R-squared:                       0.022\n",
       "Model:                            OLS   Adj. R-squared:                  0.021\n",
       "Method:                 Least Squares   F-statistic:                     37.55\n",
       "Date:                Sun, 30 Sep 2018   Prob (F-statistic):           1.11e-09\n",
       "Time:                        10:55:55   Log-Likelihood:                -14215.\n",
       "No. Observations:                1691   AIC:                         2.843e+04\n",
       "Df Residuals:                    1690   BIC:                         2.844e+04\n",
       "Df Model:                           1                                         \n",
       "Covariance Type:            nonrobust                                         \n",
       "==============================================================================\n",
       "                 coef    std err          t      P>|t|      [0.025      0.975]\n",
       "------------------------------------------------------------------------------\n",
       "multi       -285.6520     46.614     -6.128      0.000    -377.080    -194.224\n",
       "==============================================================================\n",
       "Omnibus:                       34.362   Durbin-Watson:                   0.049\n",
       "Prob(Omnibus):                  0.000   Jarque-Bera (JB):               36.178\n",
       "Skew:                          -0.358   Prob(JB):                     1.39e-08\n",
       "Kurtosis:                       2.967   Cond. No.                         1.00\n",
       "==============================================================================\n",
       "\n",
       "Warnings:\n",
       "[1] Standard Errors assume that the covariance matrix of the errors is correctly specified.\n",
       "\"\"\""
      ]
     },
     "execution_count": 110,
     "metadata": {},
     "output_type": "execute_result"
    }
   ],
   "source": [
    "k=11\n",
    "\n",
    "shift_price_listk = [0]*k + pricelist\n",
    "\n",
    "pricelistk = pricelist + [0]*k\n",
    "\n",
    "slopek = [y - x for x, y in zip(shift_price_listk, pricelistk)]\n",
    "\n",
    "slopek = slopei[k: -k]\n",
    "\n",
    "slope_df = pd.DataFrame(slopek)\n",
    "\n",
    "\n",
    "\n",
    "comments_shiftedk = reddit_data_sorted_group[0: slope_df.shape[0]]\n",
    "comments_shiftedk.index = range(len(slope_df))    \n",
    "# lm = LinearRegression()\n",
    "# lm.fit(comments_shiftedk,slope_df)\n",
    "\n",
    "import statsmodels.api as sm\n",
    "\n",
    "# print(len(slope_df))\n",
    "# print(len(comments_shiftedk))\n",
    "model = sm.OLS(slope_df, comments_shiftedk).fit()\n",
    "model.summary()"
   ]
  },
  {
   "cell_type": "code",
   "execution_count": 122,
   "metadata": {},
   "outputs": [
    {
     "data": {
      "image/png": "[encoded data removed]",
      "text/plain": [
       "<Figure size 432x288 with 1 Axes>"
      ]
     },
     "metadata": {},
     "output_type": "display_data"
    }
   ],
   "source": [
    "\n",
    "plt.plot( slopek)\n",
    "plt.xlabel('Price Change with lag=11', fontsize=18)\n",
    "plt.savefig('Price_Change.png')\n"
   ]
  },
  {
   "cell_type": "code",
   "execution_count": 111,
   "metadata": {},
   "outputs": [
    {
     "data": {
      "text/html": [
       "<div>\n",
       "<style scoped>\n",
       "    .dataframe tbody tr th:only-of-type {\n",
       "        vertical-align: middle;\n",
       "    }\n",
       "\n",
       "    .dataframe tbody tr th {\n",
       "        vertical-align: top;\n",
       "    }\n",
       "\n",
       "    .dataframe thead th {\n",
       "        text-align: right;\n",
       "    }\n",
       "</style>\n",
       "<table border=\"1\" class=\"dataframe\">\n",
       "  <thead>\n",
       "    <tr style=\"text-align: right;\">\n",
       "      <th></th>\n",
       "      <th>0</th>\n",
       "    </tr>\n",
       "  </thead>\n",
       "  <tbody>\n",
       "    <tr>\n",
       "      <th>0</th>\n",
       "      <td>1447.494906</td>\n",
       "    </tr>\n",
       "    <tr>\n",
       "      <th>1</th>\n",
       "      <td>1561.939140</td>\n",
       "    </tr>\n",
       "    <tr>\n",
       "      <th>2</th>\n",
       "      <td>1717.511223</td>\n",
       "    </tr>\n",
       "    <tr>\n",
       "      <th>3</th>\n",
       "      <td>1853.169166</td>\n",
       "    </tr>\n",
       "    <tr>\n",
       "      <th>4</th>\n",
       "      <td>1745.546534</td>\n",
       "    </tr>\n",
       "  </tbody>\n",
       "</table>\n",
       "</div>"
      ],
      "text/plain": [
       "             0\n",
       "0  1447.494906\n",
       "1  1561.939140\n",
       "2  1717.511223\n",
       "3  1853.169166\n",
       "4  1745.546534"
      ]
     },
     "execution_count": 111,
     "metadata": {},
     "output_type": "execute_result"
    }
   ],
   "source": [
    "slope_df.head()"
   ]
  },
  {
   "cell_type": "code",
   "execution_count": 112,
   "metadata": {},
   "outputs": [
    {
     "data": {
      "text/html": [
       "<div>\n",
       "<style scoped>\n",
       "    .dataframe tbody tr th:only-of-type {\n",
       "        vertical-align: middle;\n",
       "    }\n",
       "\n",
       "    .dataframe tbody tr th {\n",
       "        vertical-align: top;\n",
       "    }\n",
       "\n",
       "    .dataframe thead th {\n",
       "        text-align: right;\n",
       "    }\n",
       "</style>\n",
       "<table border=\"1\" class=\"dataframe\">\n",
       "  <thead>\n",
       "    <tr style=\"text-align: right;\">\n",
       "      <th></th>\n",
       "      <th>multi</th>\n",
       "    </tr>\n",
       "  </thead>\n",
       "  <tbody>\n",
       "    <tr>\n",
       "      <th>0</th>\n",
       "      <td>0.717129</td>\n",
       "    </tr>\n",
       "    <tr>\n",
       "      <th>1</th>\n",
       "      <td>0.447664</td>\n",
       "    </tr>\n",
       "    <tr>\n",
       "      <th>2</th>\n",
       "      <td>0.585228</td>\n",
       "    </tr>\n",
       "    <tr>\n",
       "      <th>3</th>\n",
       "      <td>0.472910</td>\n",
       "    </tr>\n",
       "    <tr>\n",
       "      <th>4</th>\n",
       "      <td>0.609294</td>\n",
       "    </tr>\n",
       "  </tbody>\n",
       "</table>\n",
       "</div>"
      ],
      "text/plain": [
       "      multi\n",
       "0  0.717129\n",
       "1  0.447664\n",
       "2  0.585228\n",
       "3  0.472910\n",
       "4  0.609294"
      ]
     },
     "execution_count": 112,
     "metadata": {},
     "output_type": "execute_result"
    }
   ],
   "source": [
    "comments_shiftedk.head()"
   ]
  },
  {
   "cell_type": "code",
   "execution_count": 113,
   "metadata": {},
   "outputs": [
    {
     "data": {
      "text/plain": [
       "array([[-74.12023014]])"
      ]
     },
     "execution_count": 113,
     "metadata": {},
     "output_type": "execute_result"
    }
   ],
   "source": [
    "lm.coef_"
   ]
  },
  {
   "cell_type": "code",
   "execution_count": 124,
   "metadata": {},
   "outputs": [
    {
     "data": {
      "image/png": "[encoded data removed]",
      "text/plain": [
       "<Figure size 432x288 with 1 Axes>"
      ]
     },
     "metadata": {},
     "output_type": "display_data"
    }
   ],
   "source": [
    "g = plt.scatter(slope_df, comments_shiftedk)\n",
    "\n",
    "plt.xlabel('Price Change VS. Comment Polarity', fontsize=18)\n",
    "plt.savefig('Price Change VS. Comment Polarity.png')"
   ]
  },
  {
   "cell_type": "code",
   "execution_count": 120,
   "metadata": {},
   "outputs": [
    {
     "data": {
      "image/png": "[encoded data removed]",
      "text/plain": [
       "<Figure size 720x360 with 1 Axes>"
      ]
     },
     "metadata": {},
     "output_type": "display_data"
    }
   ],
   "source": [
    "slope_df.plot.box(figsize=(10, 5))\n",
    "plt.title(\"Boxplots of change of price with lag = 11\", fontsize = 14)\n",
    "plt.xlabel('State', fontsize=12)\n",
    "plt.tick_params(labelsize=10)"
   ]
  },
  {
   "cell_type": "code",
   "execution_count": null,
   "metadata": {},
   "outputs": [],
   "source": []
  }
 ],
 "metadata": {
  "kernelspec": {
   "display_name": "Python 3",
   "language": "python",
   "name": "python3"
  },
  "language_info": {
   "codemirror_mode": {
    "name": "ipython",
    "version": 3
   },
   "file_extension": ".py",
   "mimetype": "text/x-python",
   "name": "python",
   "nbconvert_exporter": "python",
   "pygments_lexer": "ipython3",
   "version": "3.6.5"
  }
 },
 "nbformat": 4,
 "nbformat_minor": 2
}
