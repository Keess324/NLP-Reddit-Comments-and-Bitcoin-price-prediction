{
 "cells": [
  {
   "cell_type": "markdown",
   "metadata": {},
   "source": [
    "## Reddit Comments impact on BitCoin Price (Lag Time Discover)"
   ]
  },
  {
   "cell_type": "code",
   "execution_count": 1,
   "metadata": {},
   "outputs": [],
   "source": [
    "import pandas as pd\n",
    "import numpy as np\n",
    "import matplotlib.pylab as plt\n",
    "from datetime import datetime\n",
    "from dateutil import tz\n",
    "import time"
   ]
  },
  {
   "cell_type": "code",
   "execution_count": 2,
   "metadata": {},
   "outputs": [],
   "source": [
    "# Reddit_cleaned\n",
    "reddit_data = pd.read_csv('Reddit_cleaned.csv', encoding = \"ISO-8859-1\")"
   ]
  },
  {
   "cell_type": "code",
   "execution_count": 3,
   "metadata": {},
   "outputs": [
    {
     "data": {
      "text/html": [
       "<div>\n",
       "<style scoped>\n",
       "    .dataframe tbody tr th:only-of-type {\n",
       "        vertical-align: middle;\n",
       "    }\n",
       "\n",
       "    .dataframe tbody tr th {\n",
       "        vertical-align: top;\n",
       "    }\n",
       "\n",
       "    .dataframe thead th {\n",
       "        text-align: right;\n",
       "    }\n",
       "</style>\n",
       "<table border=\"1\" class=\"dataframe\">\n",
       "  <thead>\n",
       "    <tr style=\"text-align: right;\">\n",
       "      <th></th>\n",
       "      <th>Unnamed: 0</th>\n",
       "      <th>score</th>\n",
       "      <th>created_utc</th>\n",
       "      <th>polarity</th>\n",
       "      <th>subjectivity</th>\n",
       "    </tr>\n",
       "  </thead>\n",
       "  <tbody>\n",
       "    <tr>\n",
       "      <th>0</th>\n",
       "      <td>0</td>\n",
       "      <td>255.0</td>\n",
       "      <td>1.515851e+09</td>\n",
       "      <td>0.000000</td>\n",
       "      <td>0.000000</td>\n",
       "    </tr>\n",
       "    <tr>\n",
       "      <th>1</th>\n",
       "      <td>1</td>\n",
       "      <td>123.0</td>\n",
       "      <td>1.515829e+09</td>\n",
       "      <td>0.200000</td>\n",
       "      <td>0.200000</td>\n",
       "    </tr>\n",
       "    <tr>\n",
       "      <th>2</th>\n",
       "      <td>2</td>\n",
       "      <td>46.0</td>\n",
       "      <td>1.515825e+09</td>\n",
       "      <td>0.300000</td>\n",
       "      <td>0.200000</td>\n",
       "    </tr>\n",
       "    <tr>\n",
       "      <th>3</th>\n",
       "      <td>3</td>\n",
       "      <td>32.0</td>\n",
       "      <td>1.515896e+09</td>\n",
       "      <td>0.109901</td>\n",
       "      <td>0.386412</td>\n",
       "    </tr>\n",
       "    <tr>\n",
       "      <th>4</th>\n",
       "      <td>4</td>\n",
       "      <td>29.0</td>\n",
       "      <td>1.515833e+09</td>\n",
       "      <td>0.150000</td>\n",
       "      <td>0.150000</td>\n",
       "    </tr>\n",
       "  </tbody>\n",
       "</table>\n",
       "</div>"
      ],
      "text/plain": [
       "   Unnamed: 0  score   created_utc  polarity  subjectivity\n",
       "0           0  255.0  1.515851e+09  0.000000      0.000000\n",
       "1           1  123.0  1.515829e+09  0.200000      0.200000\n",
       "2           2   46.0  1.515825e+09  0.300000      0.200000\n",
       "3           3   32.0  1.515896e+09  0.109901      0.386412\n",
       "4           4   29.0  1.515833e+09  0.150000      0.150000"
      ]
     },
     "execution_count": 3,
     "metadata": {},
     "output_type": "execute_result"
    }
   ],
   "source": [
    "reddit_data.head()"
   ]
  },
  {
   "cell_type": "code",
   "execution_count": 4,
   "metadata": {},
   "outputs": [
    {
     "data": {
      "text/plain": [
       "0     0.000000\n",
       "1    24.600000\n",
       "2    13.800000\n",
       "3     3.516819\n",
       "4     4.350000\n",
       "Name: multi, dtype: float64"
      ]
     },
     "execution_count": 4,
     "metadata": {},
     "output_type": "execute_result"
    }
   ],
   "source": [
    "reddit_data['multi'] = reddit_data.polarity * reddit_data.score\n",
    "reddit_data['multi'].head()"
   ]
  },
  {
   "cell_type": "code",
   "execution_count": 5,
   "metadata": {},
   "outputs": [],
   "source": [
    "reddit_data = reddit_data[reddit_data['multi'] !=0]"
   ]
  },
  {
   "cell_type": "code",
   "execution_count": 6,
   "metadata": {},
   "outputs": [
    {
     "name": "stdout",
     "output_type": "stream",
     "text": [
      "1514764808.0 1522540790.0\n"
     ]
    }
   ],
   "source": [
    "reddit_data_sorted = reddit_data.sort_values(['created_utc'])\n",
    "reddit_data_min = min(reddit_data_sorted['created_utc']) \n",
    "reddit_data_max = max(reddit_data_sorted['created_utc'])\n",
    "length = reddit_data_sorted.shape[0]\n",
    "\n",
    "print(reddit_data_min, reddit_data_max)"
   ]
  },
  {
   "cell_type": "code",
   "execution_count": 7,
   "metadata": {},
   "outputs": [],
   "source": [
    "reddit_data_sorted['class'] = reddit_data_sorted['created_utc']"
   ]
  },
  {
   "cell_type": "code",
   "execution_count": 8,
   "metadata": {},
   "outputs": [],
   "source": [
    "reddit_data_sorted['class'] = np.floor((reddit_data_sorted['created_utc'] - 1514764808.0)/3600) + 1"
   ]
  },
  {
   "cell_type": "code",
   "execution_count": 9,
   "metadata": {},
   "outputs": [
    {
     "data": {
      "text/plain": [
       "<bound method NDFrame.head of          Unnamed: 0  score   created_utc  polarity  subjectivity      multi  \\\n",
       "336144       361645    3.0  1.514765e+09  0.950000      0.650000   2.850000   \n",
       "951054      1036854    1.0  1.514765e+09  0.800000      1.000000   0.800000   \n",
       "724590       787704    1.0  1.514765e+09  0.400000      0.800000   0.400000   \n",
       "696377       755452    1.0  1.514765e+09  0.375000      0.475000   0.375000   \n",
       "363633       389832    5.0  1.514765e+09  0.300000      0.800000   1.500000   \n",
       "1041333     1144541    1.0  1.514765e+09  0.107143      0.477143   0.107143   \n",
       "150802       152135   95.0  1.514765e+09  1.000000      1.000000  95.000000   \n",
       "440754       472918    1.0  1.514765e+09  0.100000      0.150000   0.100000   \n",
       "786432       862811    1.0  1.514765e+09  0.136364      0.454545   0.136364   \n",
       "187919       193923    1.0  1.514765e+09 -0.400000      0.600000  -0.400000   \n",
       "446265       479926    1.0  1.514765e+09  0.095238      0.545238   0.095238   \n",
       "772985       847732    1.0  1.514765e+09  0.303333      0.529206   0.303333   \n",
       "450253       484435    1.0  1.514765e+09  0.275000      0.550000   0.275000   \n",
       "444932       478402    1.0  1.514765e+09  0.187500      0.437500   0.187500   \n",
       "964879      1053091    1.0  1.514765e+09  0.033333      0.241667   0.033333   \n",
       "705086       765932    1.0  1.514765e+09  0.800000      0.700000   0.800000   \n",
       "485059       525203    1.0  1.514765e+09  0.225000      0.600000   0.225000   \n",
       "696491       755608    1.0  1.514765e+09 -0.200000      0.500000  -0.200000   \n",
       "346800       372601    3.0  1.514765e+09 -0.025000      0.200000  -0.075000   \n",
       "909316       990180   -1.0  1.514765e+09  0.400000      0.700000  -0.400000   \n",
       "1006118     1102653    1.0  1.514765e+09  0.150000      0.366667   0.150000   \n",
       "441924       474496    1.0  1.514765e+09  0.300000      0.650000   0.300000   \n",
       "674534       730127   13.0  1.514765e+09  0.270000      0.430000   3.510000   \n",
       "188131       194199    1.0  1.514765e+09  0.105000      0.468333   0.105000   \n",
       "896603       976831    8.0  1.514765e+09  0.468182      0.727273   3.745455   \n",
       "845368       924202    3.0  1.514765e+09  0.280952      0.433333   0.842857   \n",
       "573682       625493    2.0  1.514765e+09 -0.250000      0.750000  -0.500000   \n",
       "473550       510721    1.0  1.514765e+09 -0.500000      0.900000  -0.500000   \n",
       "912416       993655   -4.0  1.514765e+09  0.200000      0.900000  -0.800000   \n",
       "198342       206088    1.0  1.514765e+09  0.400000      0.400000   0.400000   \n",
       "...             ...    ...           ...       ...           ...        ...   \n",
       "1066735     1171255    2.0  1.522540e+09 -0.250000      0.400000  -0.500000   \n",
       "153629       155186   13.0  1.522540e+09  0.100000      0.161111   1.300000   \n",
       "571567       623280    2.0  1.522540e+09  0.168182      0.327273   0.336364   \n",
       "732512       797564    1.0  1.522540e+09  0.273016      0.478571   0.273016   \n",
       "862147       941443    4.0  1.522540e+09  0.300000      0.000000   1.200000   \n",
       "570835       622506    2.0  1.522540e+09  0.136364      0.454545   0.272727   \n",
       "926283      1008429  -12.0  1.522540e+09  0.366667      0.333333  -4.400000   \n",
       "413377       441791   52.0  1.522540e+09  0.210000      0.464444  10.920000   \n",
       "305834       330408    2.0  1.522540e+09  0.350000      0.650000   0.700000   \n",
       "142081       143126    1.0  1.522540e+09  0.371429      0.771429   0.371429   \n",
       "351721       377657    3.0  1.522540e+09 -0.300000      0.400000  -0.900000   \n",
       "403231       430970   16.0  1.522540e+09  0.550000      0.550000   8.800000   \n",
       "556970       608199    2.0  1.522540e+09  0.200000      0.300000   0.400000   \n",
       "1030516     1132267    1.0  1.522540e+09 -0.076667      0.456667  -0.076667   \n",
       "559406       610717    2.0  1.522541e+09  0.187500      0.533333   0.375000   \n",
       "603739       656362    3.0  1.522541e+09  0.187879      0.669697   0.563636   \n",
       "307917       332561    2.0  1.522541e+09  0.095833      0.595833   0.191667   \n",
       "737590       803935    1.0  1.522541e+09 -0.060000      0.290769  -0.060000   \n",
       "898842       979113    9.0  1.522541e+09  0.292857      0.317857   2.635714   \n",
       "267665       289451    1.0  1.522541e+09 -0.141667      0.541667  -0.141667   \n",
       "1050659     1154715    2.0  1.522541e+09  0.700000      0.600000   1.400000   \n",
       "1057935     1162248    2.0  1.522541e+09  0.062117      0.325574   0.124235   \n",
       "223324       234755    1.0  1.522541e+09  0.100000      0.100000   0.100000   \n",
       "142175       143220    1.0  1.522541e+09  0.180000      0.520000   0.180000   \n",
       "143001       144048    3.0  1.522541e+09  0.700000      0.600000   2.100000   \n",
       "890323       970384    7.0  1.522541e+09  0.210000      0.500000   1.470000   \n",
       "954285      1041040    1.0  1.522541e+09 -0.210000      0.180000  -0.210000   \n",
       "1030096     1131722    1.0  1.522541e+09 -0.012500      0.150000  -0.012500   \n",
       "699158       759198    1.0  1.522541e+09  0.800000      0.700000   0.800000   \n",
       "142195       143240    1.0  1.522541e+09  0.350000      0.338462   0.350000   \n",
       "\n",
       "          class  \n",
       "336144      1.0  \n",
       "951054      1.0  \n",
       "724590      1.0  \n",
       "696377      1.0  \n",
       "363633      1.0  \n",
       "1041333     1.0  \n",
       "150802      1.0  \n",
       "440754      1.0  \n",
       "786432      1.0  \n",
       "187919      1.0  \n",
       "446265      1.0  \n",
       "772985      1.0  \n",
       "450253      1.0  \n",
       "444932      1.0  \n",
       "964879      1.0  \n",
       "705086      1.0  \n",
       "485059      1.0  \n",
       "696491      1.0  \n",
       "346800      1.0  \n",
       "909316      1.0  \n",
       "1006118     1.0  \n",
       "441924      1.0  \n",
       "674534      1.0  \n",
       "188131      1.0  \n",
       "896603      1.0  \n",
       "845368      1.0  \n",
       "573682      1.0  \n",
       "473550      1.0  \n",
       "912416      1.0  \n",
       "198342      1.0  \n",
       "...         ...  \n",
       "1066735  2160.0  \n",
       "153629   2160.0  \n",
       "571567   2160.0  \n",
       "732512   2160.0  \n",
       "862147   2160.0  \n",
       "570835   2160.0  \n",
       "926283   2160.0  \n",
       "413377   2160.0  \n",
       "305834   2160.0  \n",
       "142081   2160.0  \n",
       "351721   2160.0  \n",
       "403231   2160.0  \n",
       "556970   2160.0  \n",
       "1030516  2160.0  \n",
       "559406   2160.0  \n",
       "603739   2160.0  \n",
       "307917   2160.0  \n",
       "737590   2160.0  \n",
       "898842   2160.0  \n",
       "267665   2160.0  \n",
       "1050659  2160.0  \n",
       "1057935  2160.0  \n",
       "223324   2160.0  \n",
       "142175   2160.0  \n",
       "143001   2160.0  \n",
       "890323   2160.0  \n",
       "954285   2160.0  \n",
       "1030096  2160.0  \n",
       "699158   2160.0  \n",
       "142195   2160.0  \n",
       "\n",
       "[649152 rows x 7 columns]>"
      ]
     },
     "execution_count": 9,
     "metadata": {},
     "output_type": "execute_result"
    }
   ],
   "source": [
    "reddit_data_sorted.head"
   ]
  },
  {
   "cell_type": "code",
   "execution_count": 10,
   "metadata": {},
   "outputs": [],
   "source": [
    "reddit_data_sorted = reddit_data_sorted[['multi','class']]"
   ]
  },
  {
   "cell_type": "code",
   "execution_count": 11,
   "metadata": {},
   "outputs": [],
   "source": [
    "reddit_data_sorted_group = reddit_data_sorted.groupby('class').mean()"
   ]
  },
  {
   "cell_type": "code",
   "execution_count": 12,
   "metadata": {},
   "outputs": [
    {
     "data": {
      "text/html": [
       "<div>\n",
       "<style scoped>\n",
       "    .dataframe tbody tr th:only-of-type {\n",
       "        vertical-align: middle;\n",
       "    }\n",
       "\n",
       "    .dataframe tbody tr th {\n",
       "        vertical-align: top;\n",
       "    }\n",
       "\n",
       "    .dataframe thead th {\n",
       "        text-align: right;\n",
       "    }\n",
       "</style>\n",
       "<table border=\"1\" class=\"dataframe\">\n",
       "  <thead>\n",
       "    <tr style=\"text-align: right;\">\n",
       "      <th></th>\n",
       "      <th>multi</th>\n",
       "    </tr>\n",
       "    <tr>\n",
       "      <th>class</th>\n",
       "      <th></th>\n",
       "    </tr>\n",
       "  </thead>\n",
       "  <tbody>\n",
       "    <tr>\n",
       "      <th>1.0</th>\n",
       "      <td>0.764779</td>\n",
       "    </tr>\n",
       "    <tr>\n",
       "      <th>2.0</th>\n",
       "      <td>0.466948</td>\n",
       "    </tr>\n",
       "    <tr>\n",
       "      <th>3.0</th>\n",
       "      <td>0.616579</td>\n",
       "    </tr>\n",
       "    <tr>\n",
       "      <th>4.0</th>\n",
       "      <td>0.485955</td>\n",
       "    </tr>\n",
       "    <tr>\n",
       "      <th>5.0</th>\n",
       "      <td>0.647891</td>\n",
       "    </tr>\n",
       "  </tbody>\n",
       "</table>\n",
       "</div>"
      ],
      "text/plain": [
       "          multi\n",
       "class          \n",
       "1.0    0.764779\n",
       "2.0    0.466948\n",
       "3.0    0.616579\n",
       "4.0    0.485955\n",
       "5.0    0.647891"
      ]
     },
     "execution_count": 12,
     "metadata": {},
     "output_type": "execute_result"
    }
   ],
   "source": [
    "reddit_data_sorted_group.head()"
   ]
  },
  {
   "cell_type": "code",
   "execution_count": 13,
   "metadata": {},
   "outputs": [],
   "source": [
    "reddit_data_sorted_group['multi'] = np.where(reddit_data_sorted_group['multi']>0, 1, -1)"
   ]
  },
  {
   "cell_type": "code",
   "execution_count": 14,
   "metadata": {},
   "outputs": [
    {
     "data": {
      "text/html": [
       "<div>\n",
       "<style scoped>\n",
       "    .dataframe tbody tr th:only-of-type {\n",
       "        vertical-align: middle;\n",
       "    }\n",
       "\n",
       "    .dataframe tbody tr th {\n",
       "        vertical-align: top;\n",
       "    }\n",
       "\n",
       "    .dataframe thead th {\n",
       "        text-align: right;\n",
       "    }\n",
       "</style>\n",
       "<table border=\"1\" class=\"dataframe\">\n",
       "  <thead>\n",
       "    <tr style=\"text-align: right;\">\n",
       "      <th></th>\n",
       "      <th>multi</th>\n",
       "    </tr>\n",
       "    <tr>\n",
       "      <th>class</th>\n",
       "      <th></th>\n",
       "    </tr>\n",
       "  </thead>\n",
       "  <tbody>\n",
       "    <tr>\n",
       "      <th>1.0</th>\n",
       "      <td>1</td>\n",
       "    </tr>\n",
       "    <tr>\n",
       "      <th>2.0</th>\n",
       "      <td>1</td>\n",
       "    </tr>\n",
       "    <tr>\n",
       "      <th>3.0</th>\n",
       "      <td>1</td>\n",
       "    </tr>\n",
       "    <tr>\n",
       "      <th>4.0</th>\n",
       "      <td>1</td>\n",
       "    </tr>\n",
       "    <tr>\n",
       "      <th>5.0</th>\n",
       "      <td>1</td>\n",
       "    </tr>\n",
       "  </tbody>\n",
       "</table>\n",
       "</div>"
      ],
      "text/plain": [
       "       multi\n",
       "class       \n",
       "1.0        1\n",
       "2.0        1\n",
       "3.0        1\n",
       "4.0        1\n",
       "5.0        1"
      ]
     },
     "execution_count": 14,
     "metadata": {},
     "output_type": "execute_result"
    }
   ],
   "source": [
    "reddit_data_sorted_group.head()"
   ]
  },
  {
   "cell_type": "code",
   "execution_count": 15,
   "metadata": {},
   "outputs": [],
   "source": [
    "# BitCoin\n",
    "btc = pd.read_csv('btc_usd.csv', encoding = \"ISO-8859-1\")"
   ]
  },
  {
   "cell_type": "code",
   "execution_count": 16,
   "metadata": {},
   "outputs": [
    {
     "data": {
      "text/html": [
       "<div>\n",
       "<style scoped>\n",
       "    .dataframe tbody tr th:only-of-type {\n",
       "        vertical-align: middle;\n",
       "    }\n",
       "\n",
       "    .dataframe tbody tr th {\n",
       "        vertical-align: top;\n",
       "    }\n",
       "\n",
       "    .dataframe thead th {\n",
       "        text-align: right;\n",
       "    }\n",
       "</style>\n",
       "<table border=\"1\" class=\"dataframe\">\n",
       "  <thead>\n",
       "    <tr style=\"text-align: right;\">\n",
       "      <th></th>\n",
       "      <th>Unnamed: 0</th>\n",
       "      <th>id</th>\n",
       "      <th>datetime</th>\n",
       "      <th>type</th>\n",
       "      <th>quantity</th>\n",
       "      <th>price</th>\n",
       "      <th>total</th>\n",
       "    </tr>\n",
       "  </thead>\n",
       "  <tbody>\n",
       "    <tr>\n",
       "      <th>0</th>\n",
       "      <td>0</td>\n",
       "      <td>148668314</td>\n",
       "      <td>2018-01-01 00:00:01</td>\n",
       "      <td>sell</td>\n",
       "      <td>0.100000</td>\n",
       "      <td>13763.0</td>\n",
       "      <td>1376.300000</td>\n",
       "    </tr>\n",
       "    <tr>\n",
       "      <th>1</th>\n",
       "      <td>1</td>\n",
       "      <td>148668317</td>\n",
       "      <td>2018-01-01 00:00:01</td>\n",
       "      <td>buy</td>\n",
       "      <td>0.010000</td>\n",
       "      <td>13766.0</td>\n",
       "      <td>137.660000</td>\n",
       "    </tr>\n",
       "    <tr>\n",
       "      <th>2</th>\n",
       "      <td>2</td>\n",
       "      <td>148668334</td>\n",
       "      <td>2018-01-01 00:00:02</td>\n",
       "      <td>buy</td>\n",
       "      <td>0.105929</td>\n",
       "      <td>13767.0</td>\n",
       "      <td>1458.325094</td>\n",
       "    </tr>\n",
       "    <tr>\n",
       "      <th>3</th>\n",
       "      <td>3</td>\n",
       "      <td>148668333</td>\n",
       "      <td>2018-01-01 00:00:02</td>\n",
       "      <td>buy</td>\n",
       "      <td>0.244811</td>\n",
       "      <td>13766.0</td>\n",
       "      <td>3370.068777</td>\n",
       "    </tr>\n",
       "    <tr>\n",
       "      <th>4</th>\n",
       "      <td>4</td>\n",
       "      <td>148668332</td>\n",
       "      <td>2018-01-01 00:00:02</td>\n",
       "      <td>buy</td>\n",
       "      <td>0.025234</td>\n",
       "      <td>13766.0</td>\n",
       "      <td>347.375374</td>\n",
       "    </tr>\n",
       "  </tbody>\n",
       "</table>\n",
       "</div>"
      ],
      "text/plain": [
       "   Unnamed: 0         id             datetime  type  quantity    price  \\\n",
       "0           0  148668314  2018-01-01 00:00:01  sell  0.100000  13763.0   \n",
       "1           1  148668317  2018-01-01 00:00:01   buy  0.010000  13766.0   \n",
       "2           2  148668334  2018-01-01 00:00:02   buy  0.105929  13767.0   \n",
       "3           3  148668333  2018-01-01 00:00:02   buy  0.244811  13766.0   \n",
       "4           4  148668332  2018-01-01 00:00:02   buy  0.025234  13766.0   \n",
       "\n",
       "         total  \n",
       "0  1376.300000  \n",
       "1   137.660000  \n",
       "2  1458.325094  \n",
       "3  3370.068777  \n",
       "4   347.375374  "
      ]
     },
     "execution_count": 16,
     "metadata": {},
     "output_type": "execute_result"
    }
   ],
   "source": [
    "btc.head()"
   ]
  },
  {
   "cell_type": "code",
   "execution_count": 17,
   "metadata": {},
   "outputs": [],
   "source": [
    "btc['realtime'] = btc['datetime'].str.slice(5, 13)"
   ]
  },
  {
   "cell_type": "code",
   "execution_count": 18,
   "metadata": {},
   "outputs": [],
   "source": [
    "btc_ts = btc[['realtime', 'price']]"
   ]
  },
  {
   "cell_type": "code",
   "execution_count": 19,
   "metadata": {},
   "outputs": [],
   "source": [
    "btc_ts_group = btc_ts.groupby('realtime').mean()"
   ]
  },
  {
   "cell_type": "code",
   "execution_count": 20,
   "metadata": {},
   "outputs": [
    {
     "data": {
      "text/html": [
       "<div>\n",
       "<style scoped>\n",
       "    .dataframe tbody tr th:only-of-type {\n",
       "        vertical-align: middle;\n",
       "    }\n",
       "\n",
       "    .dataframe tbody tr th {\n",
       "        vertical-align: top;\n",
       "    }\n",
       "\n",
       "    .dataframe thead th {\n",
       "        text-align: right;\n",
       "    }\n",
       "</style>\n",
       "<table border=\"1\" class=\"dataframe\">\n",
       "  <thead>\n",
       "    <tr style=\"text-align: right;\">\n",
       "      <th></th>\n",
       "      <th>price</th>\n",
       "    </tr>\n",
       "    <tr>\n",
       "      <th>realtime</th>\n",
       "      <th></th>\n",
       "    </tr>\n",
       "  </thead>\n",
       "  <tbody>\n",
       "    <tr>\n",
       "      <th>01-01 00</th>\n",
       "      <td>13606.842210</td>\n",
       "    </tr>\n",
       "    <tr>\n",
       "      <th>01-01 01</th>\n",
       "      <td>13461.962401</td>\n",
       "    </tr>\n",
       "    <tr>\n",
       "      <th>01-01 02</th>\n",
       "      <td>13333.441535</td>\n",
       "    </tr>\n",
       "    <tr>\n",
       "      <th>01-01 03</th>\n",
       "      <td>13447.868240</td>\n",
       "    </tr>\n",
       "    <tr>\n",
       "      <th>01-01 04</th>\n",
       "      <td>13426.570852</td>\n",
       "    </tr>\n",
       "  </tbody>\n",
       "</table>\n",
       "</div>"
      ],
      "text/plain": [
       "                 price\n",
       "realtime              \n",
       "01-01 00  13606.842210\n",
       "01-01 01  13461.962401\n",
       "01-01 02  13333.441535\n",
       "01-01 03  13447.868240\n",
       "01-01 04  13426.570852"
      ]
     },
     "execution_count": 20,
     "metadata": {},
     "output_type": "execute_result"
    }
   ],
   "source": [
    "btc_ts_group.head()"
   ]
  },
  {
   "cell_type": "code",
   "execution_count": 21,
   "metadata": {},
   "outputs": [],
   "source": [
    "pricelist = list(btc_ts_group['price'])"
   ]
  },
  {
   "cell_type": "code",
   "execution_count": 49,
   "metadata": {},
   "outputs": [
    {
     "name": "stdout",
     "output_type": "stream",
     "text": [
      "[0.5295790671217292, 0.5298804780876494, 0.5301822323462415, 0.5299145299145299, 0.5302166476624858, 0.5299486594409584, 0.5296803652968036, 0.5294117647058824, 0.5297142857142857, 0.5300171526586621, 0.5303203661327232, 0.5306239267315398, 0.5309278350515464, 0.5312320916905444, 0.5315366972477065, 0.5312679288582903, 0.5315729047072331, 0.5313038483630098, 0.5310344827586206, 0.5307648073605521, 0.5304948216340621, 0.5302245250431779, 0.5305299539170507, 0.5302593659942363, 0.5299884659746251, 0.5291402192729371, 0.5294457274826789, 0.5297515886770653, 0.5300578034682081, 0.529786003470214, 0.5295138888888888, 0.5292414591777649, 0.5289687137891078, 0.528695652173913, 0.5284222737819025, 0.5287289611143354, 0.5284552845528455, 0.5281812899477049, 0.5279069767441861]\n"
     ]
    }
   ],
   "source": [
    "accr_list = []\n",
    "for k in range(1,40):\n",
    "\n",
    "    shift_price_listk = [0] + pricelist\n",
    "\n",
    "    pricelistk = pricelist + [0]\n",
    "\n",
    "    slopek = [y - x for x, y in zip(shift_price_listk, pricelistk)]\n",
    "\n",
    "    slopek = slopek[k: -2]\n",
    "\n",
    "    slope_df = pd.DataFrame(slopek)\n",
    "\n",
    "    slope_df.columns = ['price_slope']\n",
    "\n",
    "    slope_df['price_slope'] = np.where(slope_df['price_slope']>0, 1, -1)\n",
    "\n",
    "    list_reddit_data_sorted_group = list(reddit_data_sorted_group['multi'])\n",
    "    list_slope_df = list(slope_df['price_slope'])                                     \n",
    "    diff = [y - x for x, y in zip(list_reddit_data_sorted_group, list_slope_df)]\n",
    "    error_len = sum(diff)/(-2)\n",
    "\n",
    "    full_len = len(list_slope_df)\n",
    "\n",
    "\n",
    "    accr = (full_len - error_len) / full_len\n",
    "    accr_list.append(accr)\n",
    "\n",
    "print(accr_list)\n"
   ]
  },
  {
   "cell_type": "code",
   "execution_count": 50,
   "metadata": {},
   "outputs": [
    {
     "data": {
      "image/png": "[encoded data removed]",
      "text/plain": [
       "<Figure size 432x288 with 1 Axes>"
      ]
     },
     "metadata": {},
     "output_type": "display_data"
    }
   ],
   "source": [
    "plt.plot(range(1,40), accr_list)\n",
    "plt.xlabel('Accuracy VS. Lag', fontsize=18)\n",
    "plt.savefig('Accuracy VS Lag .png')\n",
    "\n"
   ]
  },
  {
   "cell_type": "code",
   "execution_count": 27,
   "metadata": {},
   "outputs": [],
   "source": [
    "slope_df.columns = ['price_slope']"
   ]
  },
  {
   "cell_type": "code",
   "execution_count": 28,
   "metadata": {},
   "outputs": [],
   "source": [
    "slope_df['price_slope'] = np.where(slope_df['price_slope']>0, 1, -1)"
   ]
  },
  {
   "cell_type": "code",
   "execution_count": 29,
   "metadata": {},
   "outputs": [
    {
     "data": {
      "text/html": [
       "<div>\n",
       "<style scoped>\n",
       "    .dataframe tbody tr th:only-of-type {\n",
       "        vertical-align: middle;\n",
       "    }\n",
       "\n",
       "    .dataframe tbody tr th {\n",
       "        vertical-align: top;\n",
       "    }\n",
       "\n",
       "    .dataframe thead th {\n",
       "        text-align: right;\n",
       "    }\n",
       "</style>\n",
       "<table border=\"1\" class=\"dataframe\">\n",
       "  <thead>\n",
       "    <tr style=\"text-align: right;\">\n",
       "      <th></th>\n",
       "      <th>price_slope</th>\n",
       "    </tr>\n",
       "  </thead>\n",
       "  <tbody>\n",
       "    <tr>\n",
       "      <th>0</th>\n",
       "      <td>-1</td>\n",
       "    </tr>\n",
       "    <tr>\n",
       "      <th>1</th>\n",
       "      <td>-1</td>\n",
       "    </tr>\n",
       "    <tr>\n",
       "      <th>2</th>\n",
       "      <td>1</td>\n",
       "    </tr>\n",
       "    <tr>\n",
       "      <th>3</th>\n",
       "      <td>-1</td>\n",
       "    </tr>\n",
       "    <tr>\n",
       "      <th>4</th>\n",
       "      <td>1</td>\n",
       "    </tr>\n",
       "  </tbody>\n",
       "</table>\n",
       "</div>"
      ],
      "text/plain": [
       "   price_slope\n",
       "0           -1\n",
       "1           -1\n",
       "2            1\n",
       "3           -1\n",
       "4            1"
      ]
     },
     "execution_count": 29,
     "metadata": {},
     "output_type": "execute_result"
    }
   ],
   "source": [
    "slope_df.head()"
   ]
  },
  {
   "cell_type": "code",
   "execution_count": null,
   "metadata": {},
   "outputs": [],
   "source": [
    "# reddit_data_sorted_group.head()\n",
    "# slope_df.head()"
   ]
  },
  {
   "cell_type": "code",
   "execution_count": 36,
   "metadata": {},
   "outputs": [
    {
     "name": "stdout",
     "output_type": "stream",
     "text": [
      "827.0\n",
      "1759\n"
     ]
    },
    {
     "data": {
      "text/plain": [
       "0.5298465036952814"
      ]
     },
     "execution_count": 36,
     "metadata": {},
     "output_type": "execute_result"
    }
   ],
   "source": [
    "list_reddit_data_sorted_group = list(reddit_data_sorted_group['multi'])\n",
    "list_slope_df = list(slope_df['price_slope'])                                     \n",
    "diff = [y - x for x, y in zip(list_reddit_data_sorted_group, list_slope_df)]\n",
    "error_len = sum(diff)/(-2)\n",
    "print(error_len)\n",
    "full_len = len(list_slope_df)\n",
    "print(full_len)\n",
    "\n",
    "accr = (full_len - error_len) / full_len\n",
    "accr                    "
   ]
  },
  {
   "cell_type": "code",
   "execution_count": null,
   "metadata": {},
   "outputs": [],
   "source": []
  }
 ],
 "metadata": {
  "kernelspec": {
   "display_name": "Python 3",
   "language": "python",
   "name": "python3"
  },
  "language_info": {
   "codemirror_mode": {
    "name": "ipython",
    "version": 3
   },
   "file_extension": ".py",
   "mimetype": "text/x-python",
   "name": "python",
   "nbconvert_exporter": "python",
   "pygments_lexer": "ipython3",
   "version": "3.6.5"
  }
 },
 "nbformat": 4,
 "nbformat_minor": 2
}
